{
  "nbformat": 4,
  "nbformat_minor": 0,
  "metadata": {
    "colab": {
      "name": "2.1.ipynb",
      "provenance": [],
      "authorship_tag": "ABX9TyPRgyil/gKR8hGi5gB5jO1f",
      "include_colab_link": true
    },
    "kernelspec": {
      "name": "python3",
      "display_name": "Python 3"
    }
  },
  "cells": [
    {
      "cell_type": "markdown",
      "metadata": {
        "id": "view-in-github",
        "colab_type": "text"
      },
      "source": [
        "<a href=\"https://colab.research.google.com/github/viethoangtranduong/practical-data-science/blob/master/2_1.ipynb\" target=\"_parent\"><img src=\"https://colab.research.google.com/assets/colab-badge.svg\" alt=\"Open In Colab\"/></a>"
      ]
    },
    {
      "cell_type": "code",
      "metadata": {
        "id": "ShunPBAO9PdE",
        "colab_type": "code",
        "colab": {
          "base_uri": "https://localhost:8080/",
          "height": 51
        },
        "outputId": "26ec6e97-866c-4457-817d-8c8e4ba38e3f"
      },
      "source": [
        "import numpy as np\n",
        "import pandas as pd\n",
        "import matplotlib.pyplot as plt\n",
        "import seaborn as sns\n",
        "import warnings\n",
        "warnings.filterwarnings('ignore')"
      ],
      "execution_count": 13,
      "outputs": [
        {
          "output_type": "stream",
          "text": [
            "/usr/local/lib/python3.6/dist-packages/statsmodels/tools/_testing.py:19: FutureWarning: pandas.util.testing is deprecated. Use the functions in the public API at pandas.testing instead.\n",
            "  import pandas.util.testing as tm\n"
          ],
          "name": "stderr"
        }
      ]
    },
    {
      "cell_type": "code",
      "metadata": {
        "id": "zRlk0Y-J9Sm2",
        "colab_type": "code",
        "colab": {}
      },
      "source": [
        "data = pd.read_csv('https://docs.google.com/spreadsheets/d/e/2PACX-1vRSyEd0vQ2RGcR1lxfgvn-yUTU3mVR9E78sz-puF_KHsVdGM-KxPMkhqvdiVYWFUr8F0HTztVc0XeQb/pub?gid=327811442&single=true&output=csv')"
      ],
      "execution_count": 14,
      "outputs": []
    },
    {
      "cell_type": "code",
      "metadata": {
        "id": "yhNiuDmt9UtF",
        "colab_type": "code",
        "colab": {
          "base_uri": "https://localhost:8080/",
          "height": 197
        },
        "outputId": "494b5597-435b-4557-90cf-30769752d6b7"
      },
      "source": [
        "data.head()"
      ],
      "execution_count": 15,
      "outputs": [
        {
          "output_type": "execute_result",
          "data": {
            "text/html": [
              "<div>\n",
              "<style scoped>\n",
              "    .dataframe tbody tr th:only-of-type {\n",
              "        vertical-align: middle;\n",
              "    }\n",
              "\n",
              "    .dataframe tbody tr th {\n",
              "        vertical-align: top;\n",
              "    }\n",
              "\n",
              "    .dataframe thead th {\n",
              "        text-align: right;\n",
              "    }\n",
              "</style>\n",
              "<table border=\"1\" class=\"dataframe\">\n",
              "  <thead>\n",
              "    <tr style=\"text-align: right;\">\n",
              "      <th></th>\n",
              "      <th>Pregnancies</th>\n",
              "      <th>Glucose</th>\n",
              "      <th>BloodPressure</th>\n",
              "      <th>SkinThickness</th>\n",
              "      <th>Insulin</th>\n",
              "      <th>BMI</th>\n",
              "      <th>DiabetesPedigreeFunction</th>\n",
              "      <th>Age</th>\n",
              "      <th>Outcome</th>\n",
              "    </tr>\n",
              "  </thead>\n",
              "  <tbody>\n",
              "    <tr>\n",
              "      <th>0</th>\n",
              "      <td>6</td>\n",
              "      <td>148</td>\n",
              "      <td>72</td>\n",
              "      <td>35</td>\n",
              "      <td>0</td>\n",
              "      <td>33.6</td>\n",
              "      <td>0.627</td>\n",
              "      <td>50</td>\n",
              "      <td>1</td>\n",
              "    </tr>\n",
              "    <tr>\n",
              "      <th>1</th>\n",
              "      <td>1</td>\n",
              "      <td>85</td>\n",
              "      <td>66</td>\n",
              "      <td>29</td>\n",
              "      <td>0</td>\n",
              "      <td>26.6</td>\n",
              "      <td>0.351</td>\n",
              "      <td>31</td>\n",
              "      <td>0</td>\n",
              "    </tr>\n",
              "    <tr>\n",
              "      <th>2</th>\n",
              "      <td>8</td>\n",
              "      <td>183</td>\n",
              "      <td>64</td>\n",
              "      <td>0</td>\n",
              "      <td>0</td>\n",
              "      <td>23.3</td>\n",
              "      <td>0.672</td>\n",
              "      <td>32</td>\n",
              "      <td>1</td>\n",
              "    </tr>\n",
              "    <tr>\n",
              "      <th>3</th>\n",
              "      <td>1</td>\n",
              "      <td>89</td>\n",
              "      <td>66</td>\n",
              "      <td>23</td>\n",
              "      <td>94</td>\n",
              "      <td>28.1</td>\n",
              "      <td>0.167</td>\n",
              "      <td>21</td>\n",
              "      <td>0</td>\n",
              "    </tr>\n",
              "    <tr>\n",
              "      <th>4</th>\n",
              "      <td>0</td>\n",
              "      <td>137</td>\n",
              "      <td>40</td>\n",
              "      <td>35</td>\n",
              "      <td>168</td>\n",
              "      <td>43.1</td>\n",
              "      <td>2.288</td>\n",
              "      <td>33</td>\n",
              "      <td>1</td>\n",
              "    </tr>\n",
              "  </tbody>\n",
              "</table>\n",
              "</div>"
            ],
            "text/plain": [
              "   Pregnancies  Glucose  BloodPressure  ...  DiabetesPedigreeFunction  Age  Outcome\n",
              "0            6      148             72  ...                     0.627   50        1\n",
              "1            1       85             66  ...                     0.351   31        0\n",
              "2            8      183             64  ...                     0.672   32        1\n",
              "3            1       89             66  ...                     0.167   21        0\n",
              "4            0      137             40  ...                     2.288   33        1\n",
              "\n",
              "[5 rows x 9 columns]"
            ]
          },
          "metadata": {
            "tags": []
          },
          "execution_count": 15
        }
      ]
    },
    {
      "cell_type": "code",
      "metadata": {
        "id": "CN_qdTAA9WF0",
        "colab_type": "code",
        "colab": {
          "base_uri": "https://localhost:8080/",
          "height": 187
        },
        "outputId": "6f1f6fcc-fb8c-4c31-818b-374279aae2c8"
      },
      "source": [
        "data.isnull().sum()"
      ],
      "execution_count": 16,
      "outputs": [
        {
          "output_type": "execute_result",
          "data": {
            "text/plain": [
              "Pregnancies                 0\n",
              "Glucose                     0\n",
              "BloodPressure               0\n",
              "SkinThickness               0\n",
              "Insulin                     0\n",
              "BMI                         0\n",
              "DiabetesPedigreeFunction    0\n",
              "Age                         0\n",
              "Outcome                     0\n",
              "dtype: int64"
            ]
          },
          "metadata": {
            "tags": []
          },
          "execution_count": 16
        }
      ]
    },
    {
      "cell_type": "code",
      "metadata": {
        "id": "_79MTqns-I0D",
        "colab_type": "code",
        "colab": {
          "base_uri": "https://localhost:8080/",
          "height": 68
        },
        "outputId": "cf933c2e-e460-4a0b-c4d5-58df25c2223d"
      },
      "source": [
        "data.columns"
      ],
      "execution_count": 17,
      "outputs": [
        {
          "output_type": "execute_result",
          "data": {
            "text/plain": [
              "Index(['Pregnancies', 'Glucose', 'BloodPressure', 'SkinThickness', 'Insulin',\n",
              "       'BMI', 'DiabetesPedigreeFunction', 'Age', 'Outcome'],\n",
              "      dtype='object')"
            ]
          },
          "metadata": {
            "tags": []
          },
          "execution_count": 17
        }
      ]
    },
    {
      "cell_type": "code",
      "metadata": {
        "id": "9847_3_d-Bin",
        "colab_type": "code",
        "colab": {}
      },
      "source": [
        "X = data[['Pregnancies', 'Glucose', 'BloodPressure', 'SkinThickness', 'Insulin',\n",
        "       'BMI', 'DiabetesPedigreeFunction', 'Age']]\n",
        "Y = data.Outcome"
      ],
      "execution_count": 18,
      "outputs": []
    },
    {
      "cell_type": "code",
      "metadata": {
        "id": "9VD8EA5u969Y",
        "colab_type": "code",
        "colab": {}
      },
      "source": [
        "import sklearn.model_selection\n",
        "X_train, X_test, Y_train, Y_test = sklearn.model_selection.train_test_split(X, Y, test_size=0.2, random_state=0)"
      ],
      "execution_count": 19,
      "outputs": []
    },
    {
      "cell_type": "code",
      "metadata": {
        "id": "EThUUHub9pTs",
        "colab_type": "code",
        "colab": {}
      },
      "source": [
        "# Standardization\n",
        "from sklearn.preprocessing import StandardScaler\n",
        "scale = {}\n",
        "\n",
        "for col in X_train.columns:\n",
        "  scaler = StandardScaler()\n",
        "  X_train[col] = scaler.fit_transform(X_train[col].to_numpy().reshape(-1, 1))\n",
        "  scale[col] = scaler"
      ],
      "execution_count": 20,
      "outputs": []
    },
    {
      "cell_type": "code",
      "metadata": {
        "id": "c-d6Clbe_Buz",
        "colab_type": "code",
        "colab": {}
      },
      "source": [
        "for col in X_test.columns:\n",
        "  scaler = scale[col]\n",
        "  X_test[col] = scaler.transform(X_test[col].to_numpy().reshape(-1, 1))"
      ],
      "execution_count": 22,
      "outputs": []
    },
    {
      "cell_type": "code",
      "metadata": {
        "id": "GRtQcWWQ-3pc",
        "colab_type": "code",
        "colab": {
          "base_uri": "https://localhost:8080/",
          "height": 238
        },
        "outputId": "7fea372b-7274-4b0e-b9fa-a10438f10eaa"
      },
      "source": [
        "from sklearn.linear_model import LogisticRegression\n",
        "from sklearn import neighbors, datasets, metrics\n",
        "from sklearn.model_selection import cross_val_score\n",
        "\n",
        "clf = LogisticRegression(random_state=0)\n",
        "acc_scores = cross_val_score(clf, X_train, Y_train, cv=4, scoring = \"accuracy\")\n",
        "pre_scores = cross_val_score(clf, X_train, Y_train, cv=4, scoring = \"precision\")\n",
        "rec_scores = cross_val_score(clf, X_train, Y_train, cv=4, scoring = \"recall\")\n",
        "roc_scores = cross_val_score(clf, X_train, Y_train, cv=4, scoring = \"roc_auc\")\n",
        "print(\"Accuracy with CV: %0.2f (+/- %0.2f)\" % (acc_scores.mean(), acc_scores.std() * 2))\n",
        "print(\"Precision with CV: %0.2f (+/- %0.2f)\" % (pre_scores.mean(), pre_scores.std() * 2))\n",
        "print(\"Recall with CV: %0.2f (+/- %0.2f)\" % (rec_scores.mean(), rec_scores.std() * 2))\n",
        "print(\"ROC with CV: %0.2f (+/- %0.2f)\" % (roc_scores.mean(), roc_scores.std() * 2))\n",
        "\n",
        "print('---------------------')\n",
        "clf = LogisticRegression(random_state=0).fit(X_train, Y_train)\n",
        "print(\"Accuracy on train data:\", metrics.accuracy_score(Y_train, clf.predict(X_train)))\n",
        "print(\"Accuracy on test data:\", metrics.accuracy_score(Y_test, clf.predict(X_test)))\n",
        "print(\"Precision on train data:\", metrics.precision_score(Y_train, clf.predict(X_train)))\n",
        "print(\"Precision on test data:\", metrics.precision_score(Y_test, clf.predict(X_test)))\n",
        "print(\"Recall on train data:\", metrics.recall_score(Y_train, clf.predict(X_train)))\n",
        "print(\"Recall on test data:\", metrics.recall_score(Y_test, clf.predict(X_test)))\n",
        "print(\"ROC on train data:\", metrics.roc_auc_score(Y_train, clf.predict(X_train)))\n",
        "print(\"ROC on test data:\", metrics.roc_auc_score(Y_test, clf.predict(X_test)))"
      ],
      "execution_count": 29,
      "outputs": [
        {
          "output_type": "stream",
          "text": [
            "Accuracy with CV: 0.76 (+/- 0.03)\n",
            "Precision with CV: 0.71 (+/- 0.09)\n",
            "Recall with CV: 0.55 (+/- 0.13)\n",
            "ROC with CV: 0.83 (+/- 0.03)\n",
            "---------------------\n",
            "Accuracy on train data: 0.762214983713355\n",
            "Accuracy on test data: 0.8246753246753247\n",
            "Precision on train data: 0.7094972067039106\n",
            "Precision on test data: 0.7631578947368421\n",
            "Recall on train data: 0.5746606334841629\n",
            "Recall on test data: 0.6170212765957447\n",
            "ROC on train data: 0.7211725559278321\n",
            "ROC on test data: 0.7664545635315172\n"
          ],
          "name": "stdout"
        }
      ]
    },
    {
      "cell_type": "code",
      "metadata": {
        "id": "hJS_axTP_K51",
        "colab_type": "code",
        "colab": {
          "base_uri": "https://localhost:8080/",
          "height": 238
        },
        "outputId": "ff94e6c9-e688-4882-fe4b-bbf49dcfa113"
      },
      "source": [
        "from sklearn.linear_model import LogisticRegression\n",
        "from sklearn import neighbors, datasets, metrics\n",
        "from sklearn.model_selection import cross_val_score\n",
        "from sklearn.svm import SVC\n",
        "\n",
        "clf = SVC(gamma='auto')\n",
        "acc_scores = cross_val_score(clf, X_train, Y_train, cv=4, scoring = \"accuracy\")\n",
        "pre_scores = cross_val_score(clf, X_train, Y_train, cv=4, scoring = \"precision\")\n",
        "rec_scores = cross_val_score(clf, X_train, Y_train, cv=4, scoring = \"recall\")\n",
        "roc_scores = cross_val_score(clf, X_train, Y_train, cv=4, scoring = \"roc_auc\")\n",
        "print(\"Accuracy with CV: %0.2f (+/- %0.2f)\" % (acc_scores.mean(), acc_scores.std() * 2))\n",
        "print(\"Precision with CV: %0.2f (+/- %0.2f)\" % (pre_scores.mean(), pre_scores.std() * 2))\n",
        "print(\"Recall with CV: %0.2f (+/- %0.2f)\" % (rec_scores.mean(), rec_scores.std() * 2))\n",
        "print(\"ROC with CV: %0.2f (+/- %0.2f)\" % (roc_scores.mean(), roc_scores.std() * 2))\n",
        "\n",
        "print('---------------------')\n",
        "clf = SVC(gamma='auto').fit(X_train, Y_train)\n",
        "print(\"Accuracy on train data:\", metrics.accuracy_score(Y_train, clf.predict(X_train)))\n",
        "print(\"Accuracy on test data:\", metrics.accuracy_score(Y_test, clf.predict(X_test)))\n",
        "print(\"Precision on train data:\", metrics.precision_score(Y_train, clf.predict(X_train)))\n",
        "print(\"Precision on test data:\", metrics.precision_score(Y_test, clf.predict(X_test)))\n",
        "print(\"Recall on train data:\", metrics.recall_score(Y_train, clf.predict(X_train)))\n",
        "print(\"Recall on test data:\", metrics.recall_score(Y_test, clf.predict(X_test)))\n",
        "print(\"ROC on train data:\", metrics.roc_auc_score(Y_train, clf.predict(X_train)))\n",
        "print(\"ROC on test data:\", metrics.roc_auc_score(Y_test, clf.predict(X_test)))"
      ],
      "execution_count": 30,
      "outputs": [
        {
          "output_type": "stream",
          "text": [
            "Accuracy with CV: 0.75 (+/- 0.03)\n",
            "Precision with CV: 0.70 (+/- 0.12)\n",
            "Recall with CV: 0.54 (+/- 0.21)\n",
            "ROC with CV: 0.82 (+/- 0.05)\n",
            "---------------------\n",
            "Accuracy on train data: 0.8192182410423453\n",
            "Accuracy on test data: 0.7922077922077922\n",
            "Precision on train data: 0.8235294117647058\n",
            "Precision on test data: 0.7027027027027027\n",
            "Recall on train data: 0.6334841628959276\n",
            "Recall on test data: 0.5531914893617021\n",
            "ROC on train data: 0.778574142516666\n",
            "ROC on test data: 0.7251938755219726\n"
          ],
          "name": "stdout"
        }
      ]
    },
    {
      "cell_type": "code",
      "metadata": {
        "id": "bcxpb5R3_v3E",
        "colab_type": "code",
        "colab": {}
      },
      "source": [
        ""
      ],
      "execution_count": null,
      "outputs": []
    }
  ]
}